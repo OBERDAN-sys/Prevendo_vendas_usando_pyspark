{
  "nbformat": 4,
  "nbformat_minor": 0,
  "metadata": {
    "colab": {
      "provenance": [],
      "mount_file_id": "13mFLR_x8fx7PMoCb9bkjXwJJb3AKYJ95",
      "authorship_tag": "ABX9TyPZm6YoFt8u4ytfn3Jp73fo",
      "include_colab_link": true
    },
    "kernelspec": {
      "name": "python3",
      "display_name": "Python 3"
    },
    "language_info": {
      "name": "python"
    }
  },
  "cells": [
    {
      "cell_type": "markdown",
      "metadata": {
        "id": "view-in-github",
        "colab_type": "text"
      },
      "source": [
        "<a href=\"https://colab.research.google.com/github/OBERDAN-sys/Prevendo_vendas_usando_pyspark/blob/main/sales_forest_pyspark.ipynb\" target=\"_parent\"><img src=\"https://colab.research.google.com/assets/colab-badge.svg\" alt=\"Open In Colab\"/></a>"
      ]
    },
    {
      "cell_type": "code",
      "source": [],
      "metadata": {
        "id": "AS1T1sCgQDNK"
      },
      "execution_count": 171,
      "outputs": []
    },
    {
      "cell_type": "code",
      "execution_count": 172,
      "metadata": {
        "id": "QHRbezVJkKTT"
      },
      "outputs": [],
      "source": [
        "# Remover pasta de dados do google\n",
        "! rm -rf /content/sample_data"
      ]
    },
    {
      "cell_type": "code",
      "source": [
        "# Criar pasta dentro do google drive para colocação dos datasets\n",
        "! mkdir -p \"/content/drive/MyDrive/Colab_datasets\""
      ],
      "metadata": {
        "id": "GeocFbO_pvAC"
      },
      "execution_count": 173,
      "outputs": []
    },
    {
      "cell_type": "code",
      "source": [
        "# Criar pasta dentro do google drive para colocação do dataset por setor\n",
        "! mkdir -p \"/content/drive/MyDrive/Colab_datasets/retail\""
      ],
      "metadata": {
        "id": "Ytdnbu2GDy5r"
      },
      "execution_count": 174,
      "outputs": []
    },
    {
      "cell_type": "code",
      "source": [
        "# Criar pasta dentro do google drive para colocação do dataset por projeto\n",
        "! mkdir -p \"/content/drive/MyDrive/Colab_datasets/retail/data_sales_forcast\""
      ],
      "metadata": {
        "id": "hkMKHV7LEVN3"
      },
      "execution_count": 175,
      "outputs": []
    },
    {
      "cell_type": "code",
      "source": [
        "# Criar as pastas de dados dentro do google drive para colocação do dataset por projeto\n",
        "! mkdir -p \"/content/drive/MyDrive/Colab_datasets/retail/data_sales_forcast/raw\"\n",
        "! mkdir -p \"/content/drive/MyDrive/Colab_datasets/retail/data_sales_forcast/processed\""
      ],
      "metadata": {
        "id": "94hogj4NWCyd"
      },
      "execution_count": 176,
      "outputs": []
    },
    {
      "cell_type": "code",
      "source": [
        "# Descompactando o arquivo zipado dentro drive para colab\n",
        "! unzip /content/drive/MyDrive/Colab_datasets/retail/data_sales_forcast/raw/store_sales.zip"
      ],
      "metadata": {
        "colab": {
          "base_uri": "https://localhost:8080/"
        },
        "id": "Vz6eYm_BWiM9",
        "outputId": "a50cb826-f952-484e-f6ed-96213a159949"
      },
      "execution_count": 177,
      "outputs": [
        {
          "output_type": "stream",
          "name": "stdout",
          "text": [
            "unzip:  cannot find or open /content/drive/MyDrive/Colab_datasets/retail/data_sales_forcast/raw/store_sales.zip, /content/drive/MyDrive/Colab_datasets/retail/data_sales_forcast/raw/store_sales.zip.zip or /content/drive/MyDrive/Colab_datasets/retail/data_sales_forcast/raw/store_sales.zip.ZIP.\n"
          ]
        }
      ]
    },
    {
      "cell_type": "code",
      "source": [
        "# Remover pasta de dados zipada do google drive\n",
        "! rm -rf /content/drive/MyDrive/Colab_datasets/retail/data_sales_forcast/raw/store_sales.zip"
      ],
      "metadata": {
        "id": "VfM3e7JYazgB"
      },
      "execution_count": 178,
      "outputs": []
    },
    {
      "cell_type": "markdown",
      "source": [
        "PREPARAR O AMBIENTE DE TRABALHO PARA O PYSPARK"
      ],
      "metadata": {
        "id": "Amv_IJfZdhAe"
      }
    },
    {
      "cell_type": "code",
      "source": [
        "# importando pacote para configura a variaveis de amabiente\n",
        "import os"
      ],
      "metadata": {
        "id": "w3EWOee8dtEV"
      },
      "execution_count": 179,
      "outputs": []
    },
    {
      "cell_type": "code",
      "source": [
        "# Instalar o java\n",
        "!apt-get install openjdk-8-jdk-headless -qq > /dev/null"
      ],
      "metadata": {
        "id": "8a8mykaVe1hA"
      },
      "execution_count": 180,
      "outputs": []
    },
    {
      "cell_type": "code",
      "source": [
        "# Baixar apache spark\n",
        "# Baixando...\n",
        "! wget -q https://dlcdn.apache.org/spark/spark-3.4.3/spark-3.4.3-bin-hadoop3.tgz"
      ],
      "metadata": {
        "id": "CB0teeOJe8R6"
      },
      "execution_count": 181,
      "outputs": []
    },
    {
      "cell_type": "code",
      "source": [
        "#  Descompactar apache spark\n",
        "! tar -xf spark-3.4.3-bin-hadoop3.tgz"
      ],
      "metadata": {
        "id": "5wJ7K9zSfHc8"
      },
      "execution_count": 182,
      "outputs": []
    },
    {
      "cell_type": "code",
      "source": [
        "# Removendo a pasta  zipada\n",
        "! rm -rf spark-3.4.3-bin-hadoop3.tgz"
      ],
      "metadata": {
        "id": "5EMpDryofR8w"
      },
      "execution_count": 183,
      "outputs": []
    },
    {
      "cell_type": "code",
      "source": [
        "# Criar variaveis ambiente do java e spark\n",
        "os.environ['JAVA_HOME'] = \"/usr/lib/jvm/java-8-openjdk-amd64\"\n",
        "os.environ['SPARK_HOME'] = \"/content/spark-3.4.3-bin-hadoop3\""
      ],
      "metadata": {
        "id": "yDZHsbfBfb5D"
      },
      "execution_count": 184,
      "outputs": []
    },
    {
      "cell_type": "markdown",
      "source": [
        "# PREVENDO VENDAS DE DIFERENTES PRODUTOS NAS LOJAS FAVORITAS, USANDO MLIB DO PYSPARK"
      ],
      "metadata": {
        "id": "xp4jorm1b1Qr"
      }
    },
    {
      "cell_type": "markdown",
      "source": [],
      "metadata": {
        "id": "6UxW-4SdbtR1"
      }
    },
    {
      "cell_type": "markdown",
      "source": [
        "RESUMO EXECUTIVO"
      ],
      "metadata": {
        "id": "ctIQX2y8cJIp"
      }
    },
    {
      "cell_type": "markdown",
      "source": [
        "Neste projeto tenho um conjunto de dados do periodo 2013 a 2017 com informações sobre as vendas das lojas Corporation Favorita, uma importante varejista de alimentos sediada no Equador. O principal objetivo é prever vendas unitárias de diferentes produtos em diferentes lojas Favorita. Uma previsão precisa de vendas das lojas é crucial em um negócio porque serve como um elemento fundamental para vários aspectos das operações de um negócio. Isso permitá aos gestores das lojas Favorita melhorar as tomadas de decisão, otimizando o gerenciamento de estoque, alocando recursos e estratégias de marketing. Todo o processo de foi desenvolvido, usando a metodológia da estrutura de INTELIGENCIA ANALITICA DO BIG DATA PARA OS NEGÓCIOS. Buscando simplificar e acelerar as tarefas de processamento e análise de dados em larga escala usamos o PYSPARK."
      ],
      "metadata": {
        "id": "8ZK5vk_PcUFi"
      }
    },
    {
      "cell_type": "code",
      "source": [
        "# Instalar o localizador do PYSPARK\n",
        "! pip install -q findspark"
      ],
      "metadata": {
        "id": "vbAmQPLTg6Oh"
      },
      "execution_count": 185,
      "outputs": []
    },
    {
      "cell_type": "code",
      "source": [
        "# Importando bibliotecas\n",
        "import findspark\n",
        "findspark.init()\n",
        "\n",
        "from pyspark.sql.types import StructType,StructField, StringType, IntegerType, DoubleType, DateType, TimestampType, BooleanType\n",
        "from pyspark.sql import SparkSession\n",
        "from pyspark.sql.functions import *\n",
        "from pyspark.sql import Window\n",
        "from collections import defaultdict\n",
        "\n",
        "# Tratamento de dados\n",
        "import pandas as pd\n",
        "import numpy as np\n",
        "from pyspark.ml.feature import Imputer\n",
        "\n",
        "# Recursos de Processamento\n",
        "from pyspark.ml.feature import StringIndexer, OneHotEncoder\n",
        "from pyspark.ml.feature import StandardScaler, VectorAssembler\n",
        "from pyspark.ml import Pipeline\n",
        "from pyspark.ml.linalg import DenseVector\n",
        "\n",
        "# Algoritmos\n",
        "from pyspark.ml.classification import LogisticRegression\n",
        "from pyspark.ml.regression import LinearRegression\n",
        "from pyspark.ml.evaluation import RegressionEvaluator\n",
        "\n",
        "# Bibliotecas de visualização\n",
        "import matplotlib.pyplot as plt\n",
        "import seaborn as sns"
      ],
      "metadata": {
        "id": "FmAETkGMcTka"
      },
      "execution_count": 241,
      "outputs": []
    },
    {
      "cell_type": "code",
      "source": [
        "! pip install pandas seaborn"
      ],
      "metadata": {
        "colab": {
          "base_uri": "https://localhost:8080/"
        },
        "id": "EseuyjhJp9fj",
        "outputId": "f77059aa-b620-4661-f2e2-67d467fe47d9"
      },
      "execution_count": 187,
      "outputs": [
        {
          "output_type": "stream",
          "name": "stdout",
          "text": [
            "Requirement already satisfied: pandas in /usr/local/lib/python3.10/dist-packages (2.1.4)\n",
            "Requirement already satisfied: seaborn in /usr/local/lib/python3.10/dist-packages (0.13.1)\n",
            "Requirement already satisfied: numpy<2,>=1.22.4 in /usr/local/lib/python3.10/dist-packages (from pandas) (1.26.4)\n",
            "Requirement already satisfied: python-dateutil>=2.8.2 in /usr/local/lib/python3.10/dist-packages (from pandas) (2.8.2)\n",
            "Requirement already satisfied: pytz>=2020.1 in /usr/local/lib/python3.10/dist-packages (from pandas) (2024.1)\n",
            "Requirement already satisfied: tzdata>=2022.1 in /usr/local/lib/python3.10/dist-packages (from pandas) (2024.1)\n",
            "Requirement already satisfied: matplotlib!=3.6.1,>=3.4 in /usr/local/lib/python3.10/dist-packages (from seaborn) (3.7.1)\n",
            "Requirement already satisfied: contourpy>=1.0.1 in /usr/local/lib/python3.10/dist-packages (from matplotlib!=3.6.1,>=3.4->seaborn) (1.2.1)\n",
            "Requirement already satisfied: cycler>=0.10 in /usr/local/lib/python3.10/dist-packages (from matplotlib!=3.6.1,>=3.4->seaborn) (0.12.1)\n",
            "Requirement already satisfied: fonttools>=4.22.0 in /usr/local/lib/python3.10/dist-packages (from matplotlib!=3.6.1,>=3.4->seaborn) (4.53.1)\n",
            "Requirement already satisfied: kiwisolver>=1.0.1 in /usr/local/lib/python3.10/dist-packages (from matplotlib!=3.6.1,>=3.4->seaborn) (1.4.5)\n",
            "Requirement already satisfied: packaging>=20.0 in /usr/local/lib/python3.10/dist-packages (from matplotlib!=3.6.1,>=3.4->seaborn) (24.1)\n",
            "Requirement already satisfied: pillow>=6.2.0 in /usr/local/lib/python3.10/dist-packages (from matplotlib!=3.6.1,>=3.4->seaborn) (9.4.0)\n",
            "Requirement already satisfied: pyparsing>=2.3.1 in /usr/local/lib/python3.10/dist-packages (from matplotlib!=3.6.1,>=3.4->seaborn) (3.1.2)\n",
            "Requirement already satisfied: six>=1.5 in /usr/local/lib/python3.10/dist-packages (from python-dateutil>=2.8.2->pandas) (1.16.0)\n"
          ]
        }
      ]
    },
    {
      "cell_type": "code",
      "source": [
        "# Criando a sessão PYSPARK\n",
        "spark = (\n",
        "    SparkSession\n",
        "    .builder\n",
        "    .master(\"local[*]\")\n",
        "    .appName('prev_vend_ml')\n",
        "    .getOrCreate() )"
      ],
      "metadata": {
        "id": "PKpLqtIzh8_p"
      },
      "execution_count": 188,
      "outputs": []
    },
    {
      "cell_type": "code",
      "source": [],
      "metadata": {
        "id": "7WALnhJzidNR"
      },
      "execution_count": 188,
      "outputs": []
    },
    {
      "cell_type": "markdown",
      "source": [
        "Carregar, Ler, visualizar e Checar Schema dos dataset"
      ],
      "metadata": {
        "id": "pmbgFN36imps"
      }
    },
    {
      "cell_type": "code",
      "source": [
        "# Carregar, Ler, visualizar e Checar Schema do dataset  train\n",
        "path_train = (\"/content/drive/MyDrive/Colab_datasets/retail/data_sales_forcast/raw/train.csv\")\n",
        "\n",
        "df_train = spark.read\\\n",
        "    .format(\"csv\")\\\n",
        "    .option('sep', ',')\\\n",
        "    .option('header', 'true')\\\n",
        "    .option('inferSchema', 'true')\\\n",
        "    .csv(path_train)\n",
        "\n",
        "print(\"Visualizando os dados :\")\n",
        "df_train.show(5)\n",
        "\n",
        "print(\"Schema dos dados :\")\n",
        "df_train.printSchema()"
      ],
      "metadata": {
        "colab": {
          "base_uri": "https://localhost:8080/"
        },
        "id": "gaucpP_9itYn",
        "outputId": "d2e182e0-c166-43ee-df64-e823ee2ace6e"
      },
      "execution_count": 189,
      "outputs": [
        {
          "output_type": "stream",
          "name": "stdout",
          "text": [
            "Visualizando os dados :\n",
            "+---+----------+---------+----------+-----+-----------+\n",
            "| id|      date|store_nbr|    family|sales|onpromotion|\n",
            "+---+----------+---------+----------+-----+-----------+\n",
            "|  0|2013-01-01|        1|AUTOMOTIVE|  0.0|          0|\n",
            "|  1|2013-01-01|        1| BABY CARE|  0.0|          0|\n",
            "|  2|2013-01-01|        1|    BEAUTY|  0.0|          0|\n",
            "|  3|2013-01-01|        1| BEVERAGES|  0.0|          0|\n",
            "|  4|2013-01-01|        1|     BOOKS|  0.0|          0|\n",
            "+---+----------+---------+----------+-----+-----------+\n",
            "only showing top 5 rows\n",
            "\n",
            "Schema dos dados :\n",
            "root\n",
            " |-- id: integer (nullable = true)\n",
            " |-- date: date (nullable = true)\n",
            " |-- store_nbr: integer (nullable = true)\n",
            " |-- family: string (nullable = true)\n",
            " |-- sales: double (nullable = true)\n",
            " |-- onpromotion: integer (nullable = true)\n",
            "\n"
          ]
        }
      ]
    },
    {
      "cell_type": "markdown",
      "source": [
        "Verificando a integridade das colunas do dataset do train"
      ],
      "metadata": {
        "id": "87-KLixej-do"
      }
    },
    {
      "cell_type": "code",
      "source": [
        "# Calculando  valores nulos de train\n",
        "df_train.select([count(when(isnull(c), c))\\\n",
        "          .alias(c) for c in df_train.columns]).show()"
      ],
      "metadata": {
        "colab": {
          "base_uri": "https://localhost:8080/"
        },
        "id": "-qSVIa_Qizbu",
        "outputId": "bcff9673-7846-4e41-edb4-cc8cc7b46787"
      },
      "execution_count": 190,
      "outputs": [
        {
          "output_type": "stream",
          "name": "stdout",
          "text": [
            "+---+----+---------+------+-----+-----------+\n",
            "| id|date|store_nbr|family|sales|onpromotion|\n",
            "+---+----+---------+------+-----+-----------+\n",
            "|  0|   0|        0|     0|    0|          0|\n",
            "+---+----+---------+------+-----+-----------+\n",
            "\n"
          ]
        }
      ]
    },
    {
      "cell_type": "code",
      "source": [
        "# Carregar, Ler, visualizar e Checar Schema do dataset test.csv\n",
        "path_test = (\"/content/drive/MyDrive/Colab_datasets/retail/data_sales_forcast/raw/test.csv\")\n",
        "\n",
        "df_test = spark.read\\\n",
        "    .format(\"csv\")\\\n",
        "    .option('sep', ',')\\\n",
        "    .option('header', 'true')\\\n",
        "    .option('inferSchema', 'true')\\\n",
        "    .csv(path_test)\n",
        "\n",
        "print(\"Visualizando os dados :\")\n",
        "df_test.show(5)\n",
        "\n",
        "print(\"Schema dos dados :\")\n",
        "df_test.printSchema()"
      ],
      "metadata": {
        "colab": {
          "base_uri": "https://localhost:8080/"
        },
        "id": "njQZsNuXk4RP",
        "outputId": "5dbc7fe1-3115-4114-a240-7f09e5a5058e"
      },
      "execution_count": 191,
      "outputs": [
        {
          "output_type": "stream",
          "name": "stdout",
          "text": [
            "Visualizando os dados :\n",
            "+-------+----------+---------+----------+-----------+\n",
            "|     id|      date|store_nbr|    family|onpromotion|\n",
            "+-------+----------+---------+----------+-----------+\n",
            "|3000888|2017-08-16|        1|AUTOMOTIVE|          0|\n",
            "|3000889|2017-08-16|        1| BABY CARE|          0|\n",
            "|3000890|2017-08-16|        1|    BEAUTY|          2|\n",
            "|3000891|2017-08-16|        1| BEVERAGES|         20|\n",
            "|3000892|2017-08-16|        1|     BOOKS|          0|\n",
            "+-------+----------+---------+----------+-----------+\n",
            "only showing top 5 rows\n",
            "\n",
            "Schema dos dados :\n",
            "root\n",
            " |-- id: integer (nullable = true)\n",
            " |-- date: date (nullable = true)\n",
            " |-- store_nbr: integer (nullable = true)\n",
            " |-- family: string (nullable = true)\n",
            " |-- onpromotion: integer (nullable = true)\n",
            "\n"
          ]
        }
      ]
    },
    {
      "cell_type": "markdown",
      "source": [
        "Verificando a integridade das colunas do dataset test"
      ],
      "metadata": {
        "id": "z90q_9pOlI5z"
      }
    },
    {
      "cell_type": "code",
      "source": [
        "# Calculando  valores nulos de train\n",
        "df_test.select([count(when(isnull(c), c))\\\n",
        "          .alias(c) for c in df_test.columns]).show()"
      ],
      "metadata": {
        "colab": {
          "base_uri": "https://localhost:8080/"
        },
        "id": "mPVtKaxAlQi9",
        "outputId": "be375d07-8ab6-495b-ba2c-cb0173f745ed"
      },
      "execution_count": 192,
      "outputs": [
        {
          "output_type": "stream",
          "name": "stdout",
          "text": [
            "+---+----+---------+------+-----------+\n",
            "| id|date|store_nbr|family|onpromotion|\n",
            "+---+----+---------+------+-----------+\n",
            "|  0|   0|        0|     0|          0|\n",
            "+---+----+---------+------+-----------+\n",
            "\n"
          ]
        }
      ]
    },
    {
      "cell_type": "code",
      "source": [
        "# Carregar, Ler, visualizar e Checar Schema do dataset stores\n",
        "path_stores = (\"/content/drive/MyDrive/Colab_datasets/retail/data_sales_forcast/raw/stores.csv\")\n",
        "\n",
        "df_stores = spark.read\\\n",
        "    .format(\"csv\")\\\n",
        "    .option('sep', ',')\\\n",
        "    .option('header', 'true')\\\n",
        "    .option('inferSchema', 'true')\\\n",
        "    .csv(path_stores)\n",
        "\n",
        "print(\"Visualizando os dados :\")\n",
        "df_stores.show(5)\n",
        "\n",
        "print(\"Schema dos dados :\")\n",
        "df_stores.printSchema()"
      ],
      "metadata": {
        "colab": {
          "base_uri": "https://localhost:8080/"
        },
        "id": "eVIO4VwplTeI",
        "outputId": "a80f369d-7fb9-4618-ecbb-245f5bfb0942"
      },
      "execution_count": 193,
      "outputs": [
        {
          "output_type": "stream",
          "name": "stdout",
          "text": [
            "Visualizando os dados :\n",
            "+---------+-------------+--------------------+----+-------+\n",
            "|store_nbr|         city|               state|type|cluster|\n",
            "+---------+-------------+--------------------+----+-------+\n",
            "|        1|        Quito|           Pichincha|   D|     13|\n",
            "|        2|        Quito|           Pichincha|   D|     13|\n",
            "|        3|        Quito|           Pichincha|   D|      8|\n",
            "|        4|        Quito|           Pichincha|   D|      9|\n",
            "|        5|Santo Domingo|Santo Domingo de ...|   D|      4|\n",
            "+---------+-------------+--------------------+----+-------+\n",
            "only showing top 5 rows\n",
            "\n",
            "Schema dos dados :\n",
            "root\n",
            " |-- store_nbr: integer (nullable = true)\n",
            " |-- city: string (nullable = true)\n",
            " |-- state: string (nullable = true)\n",
            " |-- type: string (nullable = true)\n",
            " |-- cluster: integer (nullable = true)\n",
            "\n"
          ]
        }
      ]
    },
    {
      "cell_type": "markdown",
      "source": [
        "Verificando a integridade das colunas do dataset do test"
      ],
      "metadata": {
        "id": "ZhZHiboVlnht"
      }
    },
    {
      "cell_type": "code",
      "source": [
        "# Calculando  valores nulos\n",
        "df_stores.select([count(when(isnull(c), c))\\\n",
        "          .alias(c) for c in df_stores.columns]).show()"
      ],
      "metadata": {
        "colab": {
          "base_uri": "https://localhost:8080/"
        },
        "id": "Yog8qnngl6Rt",
        "outputId": "9b2be704-2ab2-46f9-9079-ec3b8d8ac173"
      },
      "execution_count": 194,
      "outputs": [
        {
          "output_type": "stream",
          "name": "stdout",
          "text": [
            "+---------+----+-----+----+-------+\n",
            "|store_nbr|city|state|type|cluster|\n",
            "+---------+----+-----+----+-------+\n",
            "|        0|   0|    0|   0|      0|\n",
            "+---------+----+-----+----+-------+\n",
            "\n"
          ]
        }
      ]
    },
    {
      "cell_type": "code",
      "source": [
        "# Carregar, Ler, visualizar e Checar Schema do dataset transações\n",
        "path_transacao = (\"/content/drive/MyDrive/Colab_datasets/retail/data_sales_forcast/raw/transactions.csv\")\n",
        "df_transacao = spark.read\\\n",
        "    .format(\"csv\")\\\n",
        "    .option('sep', ',')\\\n",
        "    .option('header', 'true')\\\n",
        "    .option('inferSchema', 'true')\\\n",
        "    .csv(path_transacao)\n",
        "\n",
        "print(\"Visualizando os dados :\")\n",
        "df_transacao.show(5)\n",
        "\n",
        "print(\"Schema dos dados :\")\n",
        "df_transacao.printSchema()"
      ],
      "metadata": {
        "colab": {
          "base_uri": "https://localhost:8080/"
        },
        "id": "ZwpfomtOmBQo",
        "outputId": "063f886c-6c12-4108-a7b8-d7f3fd355a22"
      },
      "execution_count": 195,
      "outputs": [
        {
          "output_type": "stream",
          "name": "stdout",
          "text": [
            "Visualizando os dados :\n",
            "+----------+---------+------------+\n",
            "|      date|store_nbr|transactions|\n",
            "+----------+---------+------------+\n",
            "|2013-01-01|       25|         770|\n",
            "|2013-01-02|        1|        2111|\n",
            "|2013-01-02|        2|        2358|\n",
            "|2013-01-02|        3|        3487|\n",
            "|2013-01-02|        4|        1922|\n",
            "+----------+---------+------------+\n",
            "only showing top 5 rows\n",
            "\n",
            "Schema dos dados :\n",
            "root\n",
            " |-- date: date (nullable = true)\n",
            " |-- store_nbr: integer (nullable = true)\n",
            " |-- transactions: integer (nullable = true)\n",
            "\n"
          ]
        }
      ]
    },
    {
      "cell_type": "markdown",
      "source": [
        "Verificando a integridade das colunas do dataset transações"
      ],
      "metadata": {
        "id": "6r9my9AamZXp"
      }
    },
    {
      "cell_type": "code",
      "source": [
        "df_transacao.select([count(when(isnull(c), c))\\\n",
        "          .alias(c) for c in df_transacao.columns]).show()"
      ],
      "metadata": {
        "colab": {
          "base_uri": "https://localhost:8080/"
        },
        "id": "JQG5r9w1mhUD",
        "outputId": "5d677c62-f22a-4153-b46b-de84f2c8cde8"
      },
      "execution_count": 196,
      "outputs": [
        {
          "output_type": "stream",
          "name": "stdout",
          "text": [
            "+----+---------+------------+\n",
            "|date|store_nbr|transactions|\n",
            "+----+---------+------------+\n",
            "|   0|        0|           0|\n",
            "+----+---------+------------+\n",
            "\n"
          ]
        }
      ]
    },
    {
      "cell_type": "code",
      "source": [
        "# Carregar, Ler, visualizar e Checar Schema do dataset holidays_events\n",
        "path_holidays = (\"/content/drive/MyDrive/Colab_datasets/retail/data_sales_forcast/raw/holidays_events.csv\")\n",
        "\n",
        "df_holidays = spark.read\\\n",
        "    .format(\"csv\")\\\n",
        "    .option('sep', ',')\\\n",
        "    .option('header', 'true')\\\n",
        "    .option('inferSchema', 'true')\\\n",
        "    .csv(path_holidays)\n",
        "\n",
        "print(\"Visualizando os dados :\")\n",
        "df_holidays.show(5)\n",
        "\n",
        "print(\"Schema dos dados :\")\n",
        "df_holidays.printSchema()"
      ],
      "metadata": {
        "colab": {
          "base_uri": "https://localhost:8080/"
        },
        "id": "vnFdMJa4moSR",
        "outputId": "78da45b9-22f5-4e4c-d584-48ab15afaef8"
      },
      "execution_count": 197,
      "outputs": [
        {
          "output_type": "stream",
          "name": "stdout",
          "text": [
            "Visualizando os dados :\n",
            "+----------+-------+--------+-----------+--------------------+-----------+\n",
            "|      date|   type|  locale|locale_name|         description|transferred|\n",
            "+----------+-------+--------+-----------+--------------------+-----------+\n",
            "|2012-03-02|Holiday|   Local|      Manta|  Fundacion de Manta|      false|\n",
            "|2012-04-01|Holiday|Regional|   Cotopaxi|Provincializacion...|      false|\n",
            "|2012-04-12|Holiday|   Local|     Cuenca| Fundacion de Cuenca|      false|\n",
            "|2012-04-14|Holiday|   Local|   Libertad|Cantonizacion de ...|      false|\n",
            "|2012-04-21|Holiday|   Local|   Riobamba|Cantonizacion de ...|      false|\n",
            "+----------+-------+--------+-----------+--------------------+-----------+\n",
            "only showing top 5 rows\n",
            "\n",
            "Schema dos dados :\n",
            "root\n",
            " |-- date: date (nullable = true)\n",
            " |-- type: string (nullable = true)\n",
            " |-- locale: string (nullable = true)\n",
            " |-- locale_name: string (nullable = true)\n",
            " |-- description: string (nullable = true)\n",
            " |-- transferred: boolean (nullable = true)\n",
            "\n"
          ]
        }
      ]
    },
    {
      "cell_type": "markdown",
      "source": [
        "Verificando a integridade das colunas do dataset holidays_events"
      ],
      "metadata": {
        "id": "hWiwnWZTm-t4"
      }
    },
    {
      "cell_type": "code",
      "source": [
        "# Calculando  valores nulos do dataset holidays_events\n",
        "df_holidays.select([count(when(isnull(c), c))\\\n",
        "          .alias(c) for c in df_holidays.columns]).show()"
      ],
      "metadata": {
        "colab": {
          "base_uri": "https://localhost:8080/"
        },
        "id": "Hg06TkFknGT_",
        "outputId": "b66a58f5-c582-4653-fa1f-a93886fe212b"
      },
      "execution_count": 198,
      "outputs": [
        {
          "output_type": "stream",
          "name": "stdout",
          "text": [
            "+----+----+------+-----------+-----------+-----------+\n",
            "|date|type|locale|locale_name|description|transferred|\n",
            "+----+----+------+-----------+-----------+-----------+\n",
            "|   0|   0|     0|          0|          0|          0|\n",
            "+----+----+------+-----------+-----------+-----------+\n",
            "\n"
          ]
        }
      ]
    },
    {
      "cell_type": "code",
      "source": [
        "# Carregar, Ler, visualizar e Checar Schema do dataset oil\n",
        "path_oil = (\"/content/drive/MyDrive/Colab_datasets/retail/data_sales_forcast/raw/oil.csv\")\n",
        "\n",
        "df_oil = spark.read\\\n",
        "    .format(\"csv\")\\\n",
        "    .option('sep', ',')\\\n",
        "    .option('header', 'true')\\\n",
        "    .option('inferSchema', 'true')\\\n",
        "    .csv(path_oil)\n",
        "\n",
        "print(\"Visualizando os dados :\")\n",
        "df_oil.show(5)\n",
        "\n",
        "print(\"Schema dos dados :\")\n",
        "df_oil.printSchema()"
      ],
      "metadata": {
        "colab": {
          "base_uri": "https://localhost:8080/"
        },
        "id": "4_zy7NJ4nY21",
        "outputId": "6a3d84a8-75af-479d-96a9-30f98b5e4785"
      },
      "execution_count": 199,
      "outputs": [
        {
          "output_type": "stream",
          "name": "stdout",
          "text": [
            "Visualizando os dados :\n",
            "+----------+----------+\n",
            "|      date|dcoilwtico|\n",
            "+----------+----------+\n",
            "|2013-01-01|      null|\n",
            "|2013-01-02|     93.14|\n",
            "|2013-01-03|     92.97|\n",
            "|2013-01-04|     93.12|\n",
            "|2013-01-07|      93.2|\n",
            "+----------+----------+\n",
            "only showing top 5 rows\n",
            "\n",
            "Schema dos dados :\n",
            "root\n",
            " |-- date: date (nullable = true)\n",
            " |-- dcoilwtico: double (nullable = true)\n",
            "\n"
          ]
        }
      ]
    },
    {
      "cell_type": "markdown",
      "source": [
        "Verificando a integridade das colunas do dataset oil"
      ],
      "metadata": {
        "id": "3sB1bFD7nrYY"
      }
    },
    {
      "cell_type": "code",
      "source": [
        "# Calculando  valores nulos\n",
        "df_oil.select([count(when(isnull(c), c))\\\n",
        "          .alias(c) for c in df_oil.columns]).show()"
      ],
      "metadata": {
        "colab": {
          "base_uri": "https://localhost:8080/"
        },
        "id": "bxN0GmmonxKC",
        "outputId": "51c3db71-7602-4170-d721-763a3a591f6a"
      },
      "execution_count": 200,
      "outputs": [
        {
          "output_type": "stream",
          "name": "stdout",
          "text": [
            "+----+----------+\n",
            "|date|dcoilwtico|\n",
            "+----+----------+\n",
            "|   0|        43|\n",
            "+----+----------+\n",
            "\n"
          ]
        }
      ]
    },
    {
      "cell_type": "markdown",
      "source": [
        "Alterando nomes da colunas para facilitar a leitura de dois dataset"
      ],
      "metadata": {
        "id": "Mwlqy9v0o82B"
      }
    },
    {
      "cell_type": "code",
      "source": [
        "df_holidays = df_holidays.withColumnRenamed(\"type\",\"type_holy\")\n",
        "df_stores = df_stores.withColumnRenamed(\"type\",\"type_store\")"
      ],
      "metadata": {
        "id": "SkO-Bza7pKSX"
      },
      "execution_count": 201,
      "outputs": []
    },
    {
      "cell_type": "markdown",
      "source": [
        "Mesclando dataset do train com os datasets de store, transactions, holidays_events e oil"
      ],
      "metadata": {
        "id": "0VkuYS6kpVZJ"
      }
    },
    {
      "cell_type": "code",
      "source": [
        "# meclando datasets\n",
        "df_merge = df_train.join(df_stores, on='store_nbr', how='inner')\n",
        "df_merge1 = df_merge.join(df_transacao, on=['date', 'store_nbr'], how='inner')\n",
        "df_merge2 = df_merge1.join(df_holidays, on='date', how='inner')\n",
        "df_merge3 = df_merge2.join(df_oil, on='date', how='inner')"
      ],
      "metadata": {
        "id": "cM6wWpkqprNq"
      },
      "execution_count": 202,
      "outputs": []
    },
    {
      "cell_type": "code",
      "source": [
        "# Contagem de linhas e colunas do dataset df_vrf\n",
        "linhas = df_merge3.count()\n",
        "print(f\"Contagem de linhas do DataFrame  : {linhas}\")\n",
        "colunas = len(df_merge3.columns)\n",
        "print(f\"Contagem de colunas do DataFrame : {colunas}\")"
      ],
      "metadata": {
        "colab": {
          "base_uri": "https://localhost:8080/"
        },
        "id": "nvySD8ldq-Bm",
        "outputId": "fad9f4d5-3eb3-4fb8-c3f4-ec128c66d849"
      },
      "execution_count": 203,
      "outputs": [
        {
          "output_type": "stream",
          "name": "stdout",
          "text": [
            "Contagem de linhas do DataFrame  : 322047\n",
            "Contagem de colunas do DataFrame : 17\n"
          ]
        }
      ]
    },
    {
      "cell_type": "code",
      "source": [
        "# Calculando  valores nulos de df_merge3\n",
        "df_merge3.select([count(when(isnull(c), c))\\\n",
        "          .alias(c) for c in df_merge3.columns]).show()\n",
        "\n",
        "# Imputando valores medio no campos ausentes da coluna dcoilwtico\n",
        "input_cols=['dcoilwtico']\n",
        "output_cols_mean=[\"dcoilwtico_new\"]\n",
        "\n",
        "i_mean = Imputer(strategy='mean', inputCols=input_cols, outputCols=output_cols_mean)\n",
        "\n",
        "imputer_model_mean = i_mean.fit(df_merge3)\n",
        "\n",
        "imputed_df=imputer_model_mean.transform(df_merge3)\n"
      ],
      "metadata": {
        "colab": {
          "base_uri": "https://localhost:8080/"
        },
        "id": "1YtqBcy0rxF6",
        "outputId": "5284d8f6-bc83-4656-dbee-11cfc54d4803"
      },
      "execution_count": 204,
      "outputs": [
        {
          "output_type": "stream",
          "name": "stdout",
          "text": [
            "+----+---------+---+------+-----+-----------+----+-----+----------+-------+------------+---------+------+-----------+-----------+-----------+----------+\n",
            "|date|store_nbr| id|family|sales|onpromotion|city|state|type_store|cluster|transactions|type_holy|locale|locale_name|description|transferred|dcoilwtico|\n",
            "+----+---------+---+------+-----+-----------+----+-----+----------+-------+------------+---------+------+-----------+-----------+-----------+----------+\n",
            "|   0|        0|  0|     0|    0|          0|   0|    0|         0|      0|           0|        0|     0|          0|          0|          0|     22044|\n",
            "+----+---------+---+------+-----+-----------+----+-----+----------+-------+------------+---------+------+-----------+-----------+-----------+----------+\n",
            "\n"
          ]
        }
      ]
    },
    {
      "cell_type": "markdown",
      "source": [
        "Verificando valores exclusivos das principais colunas categoricas"
      ],
      "metadata": {
        "id": "-OWUFItb7ERZ"
      }
    },
    {
      "cell_type": "code",
      "source": [
        "# Verifique os valores exclusivos das colunas desconhecidas\n",
        "print(\"Valores unicos de 'type_store':\")\n",
        "(df_merge3.select(\"type_store\").distinct()).show()\n",
        "\n",
        "print(\"Valores unicos de 'type_holy':\")\n",
        "(df_merge3.select(\"type_holy\").distinct()).show()\n",
        "\n",
        "(df_merge3.select(\"state\").distinct()).show()"
      ],
      "metadata": {
        "colab": {
          "base_uri": "https://localhost:8080/"
        },
        "id": "wmGTBaUa7RqV",
        "outputId": "d844f3ab-c9ee-408f-e7e3-c77ff615ffec"
      },
      "execution_count": 205,
      "outputs": [
        {
          "output_type": "stream",
          "name": "stdout",
          "text": [
            "Valores unicos de 'type_store':\n",
            "+----------+\n",
            "|type_store|\n",
            "+----------+\n",
            "|         E|\n",
            "|         B|\n",
            "|         D|\n",
            "|         C|\n",
            "|         A|\n",
            "+----------+\n",
            "\n",
            "Valores unicos de 'type_holy':\n",
            "+----------+\n",
            "| type_holy|\n",
            "+----------+\n",
            "|     Event|\n",
            "|   Holiday|\n",
            "|  Transfer|\n",
            "|    Bridge|\n",
            "|Additional|\n",
            "+----------+\n",
            "\n",
            "+--------------------+\n",
            "|               state|\n",
            "+--------------------+\n",
            "|              Manabi|\n",
            "|            Cotopaxi|\n",
            "|           Pichincha|\n",
            "|          Chimborazo|\n",
            "|              Guayas|\n",
            "|                Loja|\n",
            "|         Santa Elena|\n",
            "|            Imbabura|\n",
            "|              El Oro|\n",
            "|               Azuay|\n",
            "|             Bolivar|\n",
            "|          Tungurahua|\n",
            "|Santo Domingo de ...|\n",
            "|            Los Rios|\n",
            "|          Esmeraldas|\n",
            "|             Pastaza|\n",
            "+--------------------+\n",
            "\n"
          ]
        }
      ]
    },
    {
      "cell_type": "code",
      "source": [
        "# CRIANDO COPIA DO DATADRAME\n",
        "df_merge_c = df_merge3.alias('df_merge_c')"
      ],
      "metadata": {
        "id": "gZJjG5fh7uJn"
      },
      "execution_count": 206,
      "outputs": []
    },
    {
      "cell_type": "markdown",
      "source": [
        "**PREPARAÇÃO DOS DADOS PARA USO NOS MODELOS DE PREVISÃO: ENGENHARIA DE RECURSOS EM PARTES**¶"
      ],
      "metadata": {
        "id": "CEYI3mEp82Kr"
      }
    },
    {
      "cell_type": "markdown",
      "source": [
        "ENGENHARIA DE RECURSOS PARTE 1"
      ],
      "metadata": {
        "id": "0pN660EF9a3m"
      }
    },
    {
      "cell_type": "code",
      "source": [
        "# Contagem de frequencia coluna onpromotion\n",
        "df_count = df_merge_c.select(\"onpromotion\").distinct()\n",
        "print(df_count.count())"
      ],
      "metadata": {
        "colab": {
          "base_uri": "https://localhost:8080/"
        },
        "id": "0PGe7pEjXu2n",
        "outputId": "7343ca33-a201-4161-97a7-17bb60c78151"
      },
      "execution_count": 207,
      "outputs": [
        {
          "output_type": "stream",
          "name": "stdout",
          "text": [
            "285\n"
          ]
        }
      ]
    },
    {
      "cell_type": "code",
      "source": [
        "# verificando o valor min e max\n",
        "result = df_count.select([min(\"onpromotion\"), max(\"onpromotion\")])\n",
        "result.show()"
      ],
      "metadata": {
        "colab": {
          "base_uri": "https://localhost:8080/"
        },
        "id": "JCNta8tTb9rC",
        "outputId": "756a7326-7edb-4b66-e5fb-be3036a85b4c"
      },
      "execution_count": 208,
      "outputs": [
        {
          "output_type": "stream",
          "name": "stdout",
          "text": [
            "+----------------+----------------+\n",
            "|min(onpromotion)|max(onpromotion)|\n",
            "+----------------+----------------+\n",
            "|               0|             716|\n",
            "+----------------+----------------+\n",
            "\n"
          ]
        }
      ]
    },
    {
      "cell_type": "code",
      "source": [
        "# Removendo colunas desnecessárias no dataset\n",
        "df_mesc = df_merge_c.drop('city','date','id', 'locale', 'locale_name', 'description', 'transferred', 'state', 'dcoilwtico' )\n",
        "df_mesc.show(5)"
      ],
      "metadata": {
        "colab": {
          "base_uri": "https://localhost:8080/"
        },
        "id": "q11dmR7A85be",
        "outputId": "510b006d-1e92-405f-ea20-a6838c26b3e0"
      },
      "execution_count": 209,
      "outputs": [
        {
          "output_type": "stream",
          "name": "stdout",
          "text": [
            "+---------+----------+-----+-----------+----------+-------+------------+---------+\n",
            "|store_nbr|    family|sales|onpromotion|type_store|cluster|transactions|type_holy|\n",
            "+---------+----------+-----+-----------+----------+-------+------------+---------+\n",
            "|       25|AUTOMOTIVE|  0.0|          0|         D|      1|         770|  Holiday|\n",
            "|       25| BABY CARE|  0.0|          0|         D|      1|         770|  Holiday|\n",
            "|       25|    BEAUTY|  2.0|          0|         D|      1|         770|  Holiday|\n",
            "|       25| BEVERAGES|810.0|          0|         D|      1|         770|  Holiday|\n",
            "|       25|     BOOKS|  0.0|          0|         D|      1|         770|  Holiday|\n",
            "+---------+----------+-----+-----------+----------+-------+------------+---------+\n",
            "only showing top 5 rows\n",
            "\n"
          ]
        }
      ]
    },
    {
      "cell_type": "markdown",
      "source": [
        "Definindo categoria para a coluna family"
      ],
      "metadata": {
        "id": "mObRJn5h-9NA"
      }
    },
    {
      "cell_type": "code",
      "source": [
        "# Verifique os valores exclusivos da colunas family\n",
        "print(\"Valores unicos de 'family':\")\n",
        "(df_mesc.select(\"family\").distinct())"
      ],
      "metadata": {
        "colab": {
          "base_uri": "https://localhost:8080/"
        },
        "id": "HmHGw4ox_H9g",
        "outputId": "df0869f6-2e2f-4615-9b5a-2d313e1a162e"
      },
      "execution_count": 210,
      "outputs": [
        {
          "output_type": "stream",
          "name": "stdout",
          "text": [
            "Valores unicos de 'family':\n"
          ]
        },
        {
          "output_type": "execute_result",
          "data": {
            "text/plain": [
              "DataFrame[family: string]"
            ]
          },
          "metadata": {},
          "execution_count": 210
        }
      ]
    },
    {
      "cell_type": "code",
      "source": [
        "# Definindo as listas para cada categoria de produto\n",
        "food_families = ['BEVERAGES', 'BREAD/BAKERY', 'FROZEN FOODS', 'MEATS', 'PREPARED FOODS', 'DELI','PRODUCE', 'DAIRY','POULTRY','EGGS','SEAFOOD']\n",
        "home_families = ['HOME AND KITCHEN I', 'HOME AND KITCHEN II', 'HOME APPLIANCES']\n",
        "clothing_families = ['LINGERIE', 'LADYSWARE']\n",
        "grocery_families = ['GROCERY I', 'GROCERY II']\n",
        "stationery_families = ['BOOKS', 'MAGAZINES','SCHOOL AND OFFICE SUPPLIES']\n",
        "cleaning_families = ['HOME CARE', 'BABY CARE','PERSONAL CARE']\n",
        "hardware_families = ['PLAYERS AND ELECTRONICS','HARDWARE']"
      ],
      "metadata": {
        "id": "Gveiw4fL_5Gu"
      },
      "execution_count": 211,
      "outputs": []
    },
    {
      "cell_type": "code",
      "source": [
        "# Categorizando a coluna 'famíly' com base nas categorias de produtos pre-defindas\n",
        "df_mesc = df_mesc.withColumn('family', when(df_mesc['family'].isin(food_families), 'FOODS').otherwise(df_mesc['family']))\n",
        "df_mesc = df_mesc.withColumn('family', when(df_mesc['family'].isin(home_families), 'HOME').otherwise(df_mesc['family']))\n",
        "df_mesc = df_mesc.withColumn('family', when(df_mesc['family'].isin(clothing_families), 'CLOTHING').otherwise(df_mesc['family']))\n",
        "df_mesc = df_mesc.withColumn('family', when(df_mesc['family'].isin(grocery_families), 'GROCERY').otherwise(df_mesc['family']))\n",
        "df_mesc = df_mesc.withColumn('family', when(df_mesc['family'].isin(stationery_families), 'STATIONERY').otherwise(df_mesc['family']))\n",
        "df_mesc = df_mesc.withColumn('family', when(df_mesc['family'].isin(cleaning_families), 'CLEANING').otherwise(df_mesc['family']))\n",
        "df_mesc = df_mesc.withColumn('family', when(df_mesc['family'].isin(hardware_families), 'HARDWARE').otherwise(df_mesc['family']))"
      ],
      "metadata": {
        "id": "fmD4sXeYAI1p"
      },
      "execution_count": 212,
      "outputs": []
    },
    {
      "cell_type": "code",
      "source": [
        "# Agrupar e agregar colunas do df_mesc\n",
        "df_mesc.groupBy(\"family\") \\\n",
        "    .agg(count(\"*\").alias(\"count\")) \\\n",
        "    .show(truncate=False)"
      ],
      "metadata": {
        "colab": {
          "base_uri": "https://localhost:8080/"
        },
        "id": "fJHUb671iol5",
        "outputId": "7b271ce1-df62-48c9-f3c8-f7210b7ef5f4"
      },
      "execution_count": 213,
      "outputs": [
        {
          "output_type": "stream",
          "name": "stdout",
          "text": [
            "+----------------+------+\n",
            "|family          |count |\n",
            "+----------------+------+\n",
            "|LADIESWEAR      |9759  |\n",
            "|LAWN AND GARDEN |9759  |\n",
            "|AUTOMOTIVE      |9759  |\n",
            "|HOME            |29277 |\n",
            "|CELEBRATION     |9759  |\n",
            "|STATIONERY      |29277 |\n",
            "|LIQUOR,WINE,BEER|9759  |\n",
            "|FOODS           |107349|\n",
            "|CLEANING        |39036 |\n",
            "|HARDWARE        |19518 |\n",
            "|GROCERY         |19518 |\n",
            "|PET SUPPLIES    |9759  |\n",
            "|BEAUTY          |9759  |\n",
            "|CLOTHING        |9759  |\n",
            "+----------------+------+\n",
            "\n"
          ]
        }
      ]
    },
    {
      "cell_type": "markdown",
      "source": [
        "Tratando a coluna ONPROMOTION : Duplicando para transformar as promoções em 1"
      ],
      "metadata": {
        "id": "-yP3Amce39kd"
      }
    },
    {
      "cell_type": "code",
      "source": [
        "# Duplicando a coluna onpromotion\n",
        "df_mesc_dup = df_mesc.withColumn(\"onpromotion_d\", df_mesc[\"onpromotion\"])"
      ],
      "metadata": {
        "id": "sxCOgMqE37qo"
      },
      "execution_count": 214,
      "outputs": []
    },
    {
      "cell_type": "code",
      "source": [
        "# Substituir valor da coluna condicionalmente\n",
        "df_mesc1 = df_mesc_dup.withColumn(\"onpromotion\", \\\n",
        "              when(df_mesc_dup[\"onpromotion_d\"] != 0, 1).otherwise(df_mesc_dup[\"onpromotion\"]))"
      ],
      "metadata": {
        "id": "4oXLQMdSrP0i"
      },
      "execution_count": 223,
      "outputs": []
    },
    {
      "cell_type": "code",
      "source": [
        "df_mesc2 = df_mesc1.drop(\"onpromotion_d\")"
      ],
      "metadata": {
        "id": "D2_02BFcXdT5"
      },
      "execution_count": 224,
      "outputs": []
    },
    {
      "cell_type": "markdown",
      "source": [
        "Vefiricando o esquemas dos recursos e valores nulos no dataset"
      ],
      "metadata": {
        "id": "CZvaITlFA6Jr"
      }
    },
    {
      "cell_type": "code",
      "source": [
        "# Verificando esquema\n",
        "df_mesc2.printSchema()\n",
        "\n",
        "# Calculando  valores nulos de df_mesc\n",
        "df_mesc2.select([count(when(isnull(c), c))\\\n",
        "          .alias(c) for c in df_mesc2.columns]).show()"
      ],
      "metadata": {
        "colab": {
          "base_uri": "https://localhost:8080/"
        },
        "id": "F76RktNUBKGV",
        "outputId": "ffc98789-e97b-4c47-df6f-b43e8d8cb6db"
      },
      "execution_count": 225,
      "outputs": [
        {
          "output_type": "stream",
          "name": "stdout",
          "text": [
            "root\n",
            " |-- store_nbr: integer (nullable = true)\n",
            " |-- family: string (nullable = true)\n",
            " |-- sales: double (nullable = true)\n",
            " |-- onpromotion: integer (nullable = true)\n",
            " |-- type_store: string (nullable = true)\n",
            " |-- cluster: integer (nullable = true)\n",
            " |-- transactions: integer (nullable = true)\n",
            " |-- type_holy: string (nullable = true)\n",
            "\n",
            "+---------+------+-----+-----------+----------+-------+------------+---------+\n",
            "|store_nbr|family|sales|onpromotion|type_store|cluster|transactions|type_holy|\n",
            "+---------+------+-----+-----------+----------+-------+------------+---------+\n",
            "|        0|     0|    0|          0|         0|      0|           0|        0|\n",
            "+---------+------+-----+-----------+----------+-------+------------+---------+\n",
            "\n"
          ]
        }
      ]
    },
    {
      "cell_type": "markdown",
      "source": [
        "Salvando dataset"
      ],
      "metadata": {
        "id": "d9hiHXCfB8u5"
      }
    },
    {
      "cell_type": "code",
      "source": [
        "df_mesc2.write.option(\"header\",True) \\\n",
        "    .option(\"delimiter\",\",\") \\\n",
        "    .format(\"csv\") \\\n",
        "    .mode(\"overwrite\") \\\n",
        "    .save(\"/content/drive/MyDrive/Colab_datasets/retail/data_sales_forcast/processed/df_base1_train.csv\")"
      ],
      "metadata": {
        "id": "FwJ9NM32CEXb"
      },
      "execution_count": 226,
      "outputs": []
    },
    {
      "cell_type": "markdown",
      "source": [
        "Lendo o arquivo salvo"
      ],
      "metadata": {
        "id": "3nW8Zta4Ei_S"
      }
    },
    {
      "cell_type": "code",
      "source": [
        "caminho_csv = \"/content/drive/MyDrive/Colab_datasets/retail/data_sales_forcast/processed/df_base1_train.csv\"\n",
        "\n",
        "df_base = spark.read\\\n",
        "          .format(\"csv\") \\\n",
        "          .option(\"skipRows\", \"1\")\\\n",
        "          .option(\"header\", \"True\")\\\n",
        "          .option(\"sep\", \",\")\\\n",
        "          .option(\"inferSchema\", \"True\")\\\n",
        "          .load(caminho_csv)"
      ],
      "metadata": {
        "id": "lQeF8bO1Ehpx"
      },
      "execution_count": 227,
      "outputs": []
    },
    {
      "cell_type": "code",
      "source": [
        "# Contagem de linhas e colunas do dataset df_mesc\n",
        "linhas = df_base.count()\n",
        "print(f\"Contagem de linhas do DataFrame  : {linhas}\")\n",
        "colunas = len(df_base.columns)\n",
        "print(f\"Contagem de colunas do DataFrame : {colunas}\")"
      ],
      "metadata": {
        "colab": {
          "base_uri": "https://localhost:8080/"
        },
        "id": "w7j2zKTCKSKe",
        "outputId": "63ff9d8d-ef51-413f-be49-4516f3cba5d2"
      },
      "execution_count": 228,
      "outputs": [
        {
          "output_type": "stream",
          "name": "stdout",
          "text": [
            "Contagem de linhas do DataFrame  : 322047\n",
            "Contagem de colunas do DataFrame : 8\n"
          ]
        }
      ]
    },
    {
      "cell_type": "markdown",
      "source": [
        "Codificação de variáveis categóricas"
      ],
      "metadata": {
        "id": "EsWF98vXKrx8"
      }
    },
    {
      "cell_type": "code",
      "source": [
        "# ML não podem trabalhar com dados que não sejam numéricos,então vamos separar os nomes das colunas de acordo com o tipo de dados\n",
        "type_data = defaultdict(list)\n",
        "for entry in df_base.schema.fields:\n",
        "  type_data[str(entry.dataType)].append(entry.name)\n",
        "print(type_data)"
      ],
      "metadata": {
        "colab": {
          "base_uri": "https://localhost:8080/"
        },
        "id": "XNBxe8rrKt6A",
        "outputId": "47e24e6d-3a1c-448f-9833-26fd8a70a279"
      },
      "execution_count": 229,
      "outputs": [
        {
          "output_type": "stream",
          "name": "stdout",
          "text": [
            "defaultdict(<class 'list'>, {'IntegerType()': ['store_nbr', 'onpromotion', 'cluster', 'transactions'], 'StringType()': ['family', 'type_store', 'type_holy'], 'DoubleType()': ['sales']})\n"
          ]
        }
      ]
    },
    {
      "cell_type": "code",
      "source": [
        "# Converter dados categóricos para tipo numérico, aplicando o modelo StringIndexer\n",
        "# Convertendo Culuna family\n",
        "indexer = StringIndexer(inputCol=\"family\", outputCol=\"family_index\").fit(df_base)\n",
        "indexer_df = indexer.transform(df_base)\n",
        "\n",
        "# Remover coluna family\n",
        "indexed_df  = indexer_df.drop('family')\n",
        "\n",
        "# Convertendo Culuna type_store\n",
        "indexed_2 = StringIndexer(inputCol='type_store', outputCol='tstore_num').fit(indexed_df)\n",
        "indexed_2_df = indexed_2.transform(indexed_df)\n",
        "\n",
        "# Remover coluna type_store\n",
        "indexed_2_df  = indexed_2_df.drop('type_store')\n",
        "\n",
        "# Convertendo Culuna type_holy\n",
        "indexed_3 = StringIndexer(inputCol='type_holy', outputCol='tholy_num').fit(indexed_df)\n",
        "indexed_3_df = indexed_3.transform(indexed_2_df)\n",
        "\n",
        "# Remover coluna type_holy\n",
        "indexed_3_df  = indexed_3_df.drop('type_holy')"
      ],
      "metadata": {
        "id": "CjI0RMERLTWb"
      },
      "execution_count": 230,
      "outputs": []
    },
    {
      "cell_type": "code",
      "source": [
        "# Aplicando o OneHotEncoder nas colunas indexadas\n",
        "encoder = OneHotEncoder(inputCol='family_index', outputCol=\"family_vector\").fit(indexed_3_df)\n",
        "encoded_df = encoder.transform(indexed_3_df)\n",
        "\n",
        "# Remover coluna family_index\n",
        "encoded_df  = encoded_df.drop('family_index')\n",
        "\n",
        "# Aplicando OneHotEncode a coluna tstore_num\n",
        "encoder1 = OneHotEncoder(inputCol='tstore_num', outputCol=\"tstore__vector\").fit(encoded_df)\n",
        "encoded_df1 = encoder1.transform(encoded_df)\n",
        "\n",
        "# Remover coluna tstore_num\n",
        "encoded_df1  = encoded_df1.drop('tstore_num')\n",
        "\n",
        "# Aplicando OneHotEncode a coluna tholy_num\n",
        "encoder2 = OneHotEncoder(inputCol='tholy_num', outputCol=\"tholy__vector\").fit(encoded_df1)\n",
        "encoded_df2 = encoder2.transform(encoded_df1)\n",
        "\n",
        "# Remover coluna coluna tholy_num\n",
        "encoded_df2  = encoded_df2.drop('tholy_num')"
      ],
      "metadata": {
        "id": "P7KLqPGoS6ur"
      },
      "execution_count": 231,
      "outputs": []
    },
    {
      "cell_type": "markdown",
      "source": [
        "Montagem de recursos, usando VectorAssembler"
      ],
      "metadata": {
        "id": "-67dlFB2TPgo"
      }
    },
    {
      "cell_type": "code",
      "source": [
        "# Escolhendo os recursos a serem vetorizados\n",
        "col_features = ['store_nbr', 'onpromotion', 'cluster', 'transactions', 'family_vector', 'tstore__vector', 'tholy__vector']\n",
        "col_unscaled = ['sales']"
      ],
      "metadata": {
        "id": "CvGiiA8UTRe6"
      },
      "execution_count": 232,
      "outputs": []
    },
    {
      "cell_type": "code",
      "source": [
        "# Vetorizando os dados em uma nova coluna \"features\" que será nossa classe input/features (sem o alvo)\n",
        "assembler = VectorAssembler(inputCols=col_features, outputCol='features')"
      ],
      "metadata": {
        "id": "UXLzgV2yTZsK"
      },
      "execution_count": 233,
      "outputs": []
    },
    {
      "cell_type": "code",
      "source": [
        "assembled_df = assembler.transform(encoded_df2)\n",
        "assembled_df.show(10, truncate=False)"
      ],
      "metadata": {
        "colab": {
          "base_uri": "https://localhost:8080/"
        },
        "id": "Hna_SNh6T0H0",
        "outputId": "5c2b67bd-ae35-4c34-8517-3c2ecc189c9b"
      },
      "execution_count": 234,
      "outputs": [
        {
          "output_type": "stream",
          "name": "stdout",
          "text": [
            "+---------+-------+-----------+-------+------------+--------------+--------------+-------------+---------------------------------------------------------+\n",
            "|store_nbr|sales  |onpromotion|cluster|transactions|family_vector |tstore__vector|tholy__vector|features                                                 |\n",
            "+---------+-------+-----------+-------+------------+--------------+--------------+-------------+---------------------------------------------------------+\n",
            "|1        |4.0    |0          |13     |1792        |(13,[6],[1.0])|(4,[0],[1.0]) |(4,[0],[1.0])|(25,[0,2,3,10,17,21],[1.0,13.0,1792.0,1.0,1.0,1.0])      |\n",
            "|1        |0.0    |0          |13     |1792        |(13,[1],[1.0])|(4,[0],[1.0]) |(4,[0],[1.0])|(25,[0,2,3,5,17,21],[1.0,13.0,1792.0,1.0,1.0,1.0])       |\n",
            "|1        |4.0    |1          |13     |1792        |(13,[7],[1.0])|(4,[0],[1.0]) |(4,[0],[1.0])|(25,[0,1,2,3,11,17,21],[1.0,1.0,13.0,1792.0,1.0,1.0,1.0])|\n",
            "|1        |2145.0 |1          |13     |1792        |(13,[0],[1.0])|(4,[0],[1.0]) |(4,[0],[1.0])|(25,[0,1,2,3,4,17,21],[1.0,1.0,13.0,1792.0,1.0,1.0,1.0]) |\n",
            "|1        |0.0    |0          |13     |1792        |(13,[3],[1.0])|(4,[0],[1.0]) |(4,[0],[1.0])|(25,[0,2,3,7,17,21],[1.0,13.0,1792.0,1.0,1.0,1.0])       |\n",
            "|1        |411.941|0          |13     |1792        |(13,[0],[1.0])|(4,[0],[1.0]) |(4,[0],[1.0])|(25,[0,2,3,4,17,21],[1.0,13.0,1792.0,1.0,1.0,1.0])       |\n",
            "|1        |27.0   |0          |13     |1792        |(13,[8],[1.0])|(4,[0],[1.0]) |(4,[0],[1.0])|(25,[0,2,3,12,17,21],[1.0,13.0,1792.0,1.0,1.0,1.0])      |\n",
            "|1        |648.0  |1          |13     |1792        |(13,[1],[1.0])|(4,[0],[1.0]) |(4,[0],[1.0])|(25,[0,1,2,3,5,17,21],[1.0,1.0,13.0,1792.0,1.0,1.0,1.0]) |\n",
            "|1        |719.0  |1          |13     |1792        |(13,[0],[1.0])|(4,[0],[1.0]) |(4,[0],[1.0])|(25,[0,1,2,3,4,17,21],[1.0,1.0,13.0,1792.0,1.0,1.0,1.0]) |\n",
            "|1        |157.052|0          |13     |1792        |(13,[0],[1.0])|(4,[0],[1.0]) |(4,[0],[1.0])|(25,[0,2,3,4,17,21],[1.0,13.0,1792.0,1.0,1.0,1.0])       |\n",
            "+---------+-------+-----------+-------+------------+--------------+--------------+-------------+---------------------------------------------------------+\n",
            "only showing top 10 rows\n",
            "\n"
          ]
        }
      ]
    },
    {
      "cell_type": "markdown",
      "source": [
        "Agora que todos os recursos foram transformados em um Vetor Denso. Faça padronização dos dados"
      ],
      "metadata": {
        "id": "Wef-bUuiUe6O"
      }
    },
    {
      "cell_type": "code",
      "source": [
        "# Inicializar o standardScaler\n",
        "standardScaler = StandardScaler(inputCol=\"features\", outputCol=\"features_scaled\")"
      ],
      "metadata": {
        "id": "lLqFXbmfUhIz"
      },
      "execution_count": 235,
      "outputs": []
    },
    {
      "cell_type": "code",
      "source": [
        "# Ajuste e transforme o DataFrame ao scaler\n",
        "scaled_df = standardScaler.fit(assembled_df).transform(assembled_df)"
      ],
      "metadata": {
        "id": "c3nQIkFhUokv"
      },
      "execution_count": 236,
      "outputs": []
    },
    {
      "cell_type": "code",
      "source": [
        "# CRIANDO COPIA DO DATASET FINAL\n",
        "df_final = scaled_df.alias('df_final')"
      ],
      "metadata": {
        "id": "dNz9s7pyVA3N"
      },
      "execution_count": 237,
      "outputs": []
    },
    {
      "cell_type": "code",
      "source": [
        "# Inspecione o resultado da padronização\n",
        "df_final.select(\"features\", \"features_scaled\").show(10, truncate=False)"
      ],
      "metadata": {
        "colab": {
          "base_uri": "https://localhost:8080/"
        },
        "id": "SnQeTq-YVHEU",
        "outputId": "fcd77923-9d0e-4a04-c345-98c88252dbc3"
      },
      "execution_count": 238,
      "outputs": [
        {
          "output_type": "stream",
          "name": "stdout",
          "text": [
            "+---------------------------------------------------------+-------------------------------------------------------------------------------------------------------------------------------------------------------------+\n",
            "|features                                                 |features_scaled                                                                                                                                              |\n",
            "+---------------------------------------------------------+-------------------------------------------------------------------------------------------------------------------------------------------------------------+\n",
            "|(25,[0,2,3,10,17,21],[1.0,13.0,1792.0,1.0,1.0,1.0])      |(25,[0,2,3,10,17,21],[0.06412240026792974,2.757854709492489,1.7061223026700696,5.8336218876708426,2.108100881156672,2.0709727525254626])                     |\n",
            "|(25,[0,2,3,5,17,21],[1.0,13.0,1792.0,1.0,1.0,1.0])       |(25,[0,2,3,5,17,21],[0.06412240026792974,2.757854709492489,1.7061223026700696,3.0639683228898376,2.108100881156672,2.0709727525254626])                      |\n",
            "|(25,[0,1,2,3,11,17,21],[1.0,1.0,13.0,1792.0,1.0,1.0,1.0])|(25,[0,1,2,3,11,17,21],[0.06412240026792974,2.2822921248588037,2.757854709492489,1.7061223026700696,5.8336218876708426,2.108100881156672,2.0709727525254626])|\n",
            "|(25,[0,1,2,3,4,17,21],[1.0,1.0,13.0,1792.0,1.0,1.0,1.0]) |(25,[0,1,2,3,4,17,21],[0.06412240026792974,2.2822921248588037,2.757854709492489,1.7061223026700696,2.1213170500621246,2.108100881156672,2.0709727525254626]) |\n",
            "|(25,[0,2,3,7,17,21],[1.0,13.0,1792.0,1.0,1.0,1.0])       |(25,[0,2,3,7,17,21],[0.06412240026792974,2.757854709492489,1.7061223026700696,3.4785000255633727,2.108100881156672,2.0709727525254626])                      |\n",
            "|(25,[0,2,3,4,17,21],[1.0,13.0,1792.0,1.0,1.0,1.0])       |(25,[0,2,3,4,17,21],[0.06412240026792974,2.757854709492489,1.7061223026700696,2.1213170500621246,2.108100881156672,2.0709727525254626])                      |\n",
            "|(25,[0,2,3,12,17,21],[1.0,13.0,1792.0,1.0,1.0,1.0])      |(25,[0,2,3,12,17,21],[0.06412240026792974,2.757854709492489,1.7061223026700696,5.8336218876708426,2.108100881156672,2.0709727525254626])                     |\n",
            "|(25,[0,1,2,3,5,17,21],[1.0,1.0,13.0,1792.0,1.0,1.0,1.0]) |(25,[0,1,2,3,5,17,21],[0.06412240026792974,2.2822921248588037,2.757854709492489,1.7061223026700696,3.0639683228898376,2.108100881156672,2.0709727525254626]) |\n",
            "|(25,[0,1,2,3,4,17,21],[1.0,1.0,13.0,1792.0,1.0,1.0,1.0]) |(25,[0,1,2,3,4,17,21],[0.06412240026792974,2.2822921248588037,2.757854709492489,1.7061223026700696,2.1213170500621246,2.108100881156672,2.0709727525254626]) |\n",
            "|(25,[0,2,3,4,17,21],[1.0,13.0,1792.0,1.0,1.0,1.0])       |(25,[0,2,3,4,17,21],[0.06412240026792974,2.757854709492489,1.7061223026700696,2.1213170500621246,2.108100881156672,2.0709727525254626])                      |\n",
            "+---------------------------------------------------------+-------------------------------------------------------------------------------------------------------------------------------------------------------------+\n",
            "only showing top 10 rows\n",
            "\n"
          ]
        }
      ]
    },
    {
      "cell_type": "code",
      "source": [
        "# Visão geral da padronização\n",
        "df_final.show(10, truncate=False)"
      ],
      "metadata": {
        "colab": {
          "base_uri": "https://localhost:8080/"
        },
        "id": "mk4RMyF9VauO",
        "outputId": "dd771b69-336a-48ab-9456-09e148b94a5d"
      },
      "execution_count": 239,
      "outputs": [
        {
          "output_type": "stream",
          "name": "stdout",
          "text": [
            "+---------+-------+-----------+-------+------------+--------------+--------------+-------------+---------------------------------------------------------+-------------------------------------------------------------------------------------------------------------------------------------------------------------+\n",
            "|store_nbr|sales  |onpromotion|cluster|transactions|family_vector |tstore__vector|tholy__vector|features                                                 |features_scaled                                                                                                                                              |\n",
            "+---------+-------+-----------+-------+------------+--------------+--------------+-------------+---------------------------------------------------------+-------------------------------------------------------------------------------------------------------------------------------------------------------------+\n",
            "|1        |4.0    |0          |13     |1792        |(13,[6],[1.0])|(4,[0],[1.0]) |(4,[0],[1.0])|(25,[0,2,3,10,17,21],[1.0,13.0,1792.0,1.0,1.0,1.0])      |(25,[0,2,3,10,17,21],[0.06412240026792974,2.757854709492489,1.7061223026700696,5.8336218876708426,2.108100881156672,2.0709727525254626])                     |\n",
            "|1        |0.0    |0          |13     |1792        |(13,[1],[1.0])|(4,[0],[1.0]) |(4,[0],[1.0])|(25,[0,2,3,5,17,21],[1.0,13.0,1792.0,1.0,1.0,1.0])       |(25,[0,2,3,5,17,21],[0.06412240026792974,2.757854709492489,1.7061223026700696,3.0639683228898376,2.108100881156672,2.0709727525254626])                      |\n",
            "|1        |4.0    |1          |13     |1792        |(13,[7],[1.0])|(4,[0],[1.0]) |(4,[0],[1.0])|(25,[0,1,2,3,11,17,21],[1.0,1.0,13.0,1792.0,1.0,1.0,1.0])|(25,[0,1,2,3,11,17,21],[0.06412240026792974,2.2822921248588037,2.757854709492489,1.7061223026700696,5.8336218876708426,2.108100881156672,2.0709727525254626])|\n",
            "|1        |2145.0 |1          |13     |1792        |(13,[0],[1.0])|(4,[0],[1.0]) |(4,[0],[1.0])|(25,[0,1,2,3,4,17,21],[1.0,1.0,13.0,1792.0,1.0,1.0,1.0]) |(25,[0,1,2,3,4,17,21],[0.06412240026792974,2.2822921248588037,2.757854709492489,1.7061223026700696,2.1213170500621246,2.108100881156672,2.0709727525254626]) |\n",
            "|1        |0.0    |0          |13     |1792        |(13,[3],[1.0])|(4,[0],[1.0]) |(4,[0],[1.0])|(25,[0,2,3,7,17,21],[1.0,13.0,1792.0,1.0,1.0,1.0])       |(25,[0,2,3,7,17,21],[0.06412240026792974,2.757854709492489,1.7061223026700696,3.4785000255633727,2.108100881156672,2.0709727525254626])                      |\n",
            "|1        |411.941|0          |13     |1792        |(13,[0],[1.0])|(4,[0],[1.0]) |(4,[0],[1.0])|(25,[0,2,3,4,17,21],[1.0,13.0,1792.0,1.0,1.0,1.0])       |(25,[0,2,3,4,17,21],[0.06412240026792974,2.757854709492489,1.7061223026700696,2.1213170500621246,2.108100881156672,2.0709727525254626])                      |\n",
            "|1        |27.0   |0          |13     |1792        |(13,[8],[1.0])|(4,[0],[1.0]) |(4,[0],[1.0])|(25,[0,2,3,12,17,21],[1.0,13.0,1792.0,1.0,1.0,1.0])      |(25,[0,2,3,12,17,21],[0.06412240026792974,2.757854709492489,1.7061223026700696,5.8336218876708426,2.108100881156672,2.0709727525254626])                     |\n",
            "|1        |648.0  |1          |13     |1792        |(13,[1],[1.0])|(4,[0],[1.0]) |(4,[0],[1.0])|(25,[0,1,2,3,5,17,21],[1.0,1.0,13.0,1792.0,1.0,1.0,1.0]) |(25,[0,1,2,3,5,17,21],[0.06412240026792974,2.2822921248588037,2.757854709492489,1.7061223026700696,3.0639683228898376,2.108100881156672,2.0709727525254626]) |\n",
            "|1        |719.0  |1          |13     |1792        |(13,[0],[1.0])|(4,[0],[1.0]) |(4,[0],[1.0])|(25,[0,1,2,3,4,17,21],[1.0,1.0,13.0,1792.0,1.0,1.0,1.0]) |(25,[0,1,2,3,4,17,21],[0.06412240026792974,2.2822921248588037,2.757854709492489,1.7061223026700696,2.1213170500621246,2.108100881156672,2.0709727525254626]) |\n",
            "|1        |157.052|0          |13     |1792        |(13,[0],[1.0])|(4,[0],[1.0]) |(4,[0],[1.0])|(25,[0,2,3,4,17,21],[1.0,13.0,1792.0,1.0,1.0,1.0])       |(25,[0,2,3,4,17,21],[0.06412240026792974,2.757854709492489,1.7061223026700696,2.1213170500621246,2.108100881156672,2.0709727525254626])                      |\n",
            "+---------+-------+-----------+-------+------------+--------------+--------------+-------------+---------------------------------------------------------+-------------------------------------------------------------------------------------------------------------------------------------------------------------+\n",
            "only showing top 10 rows\n",
            "\n"
          ]
        }
      ]
    },
    {
      "cell_type": "markdown",
      "source": [
        "**MODELAGEM DOS DADOS**"
      ],
      "metadata": {
        "id": "rZErm--3gTPq"
      }
    },
    {
      "cell_type": "markdown",
      "source": [
        "Construindo um modelo de aprendizado de máquina com Spark ML"
      ],
      "metadata": {
        "id": "BtPUlyCFga-X"
      }
    },
    {
      "cell_type": "code",
      "source": [
        "# Selecione recursos/variáveis de entrada, recurso de saida/variavel alvo para melhor visualização\n",
        "df_final.select(\"features\", \"sales\").show(10, truncate=False)"
      ],
      "metadata": {
        "colab": {
          "base_uri": "https://localhost:8080/"
        },
        "id": "P0RP3GHjgZT-",
        "outputId": "ca18d622-8f73-44f1-d2b9-5dbd2ede0572"
      },
      "execution_count": 240,
      "outputs": [
        {
          "output_type": "stream",
          "name": "stdout",
          "text": [
            "+---------------------------------------------------------+-------+\n",
            "|features                                                 |sales  |\n",
            "+---------------------------------------------------------+-------+\n",
            "|(25,[0,2,3,10,17,21],[1.0,13.0,1792.0,1.0,1.0,1.0])      |4.0    |\n",
            "|(25,[0,2,3,5,17,21],[1.0,13.0,1792.0,1.0,1.0,1.0])       |0.0    |\n",
            "|(25,[0,1,2,3,11,17,21],[1.0,1.0,13.0,1792.0,1.0,1.0,1.0])|4.0    |\n",
            "|(25,[0,1,2,3,4,17,21],[1.0,1.0,13.0,1792.0,1.0,1.0,1.0]) |2145.0 |\n",
            "|(25,[0,2,3,7,17,21],[1.0,13.0,1792.0,1.0,1.0,1.0])       |0.0    |\n",
            "|(25,[0,2,3,4,17,21],[1.0,13.0,1792.0,1.0,1.0,1.0])       |411.941|\n",
            "|(25,[0,2,3,12,17,21],[1.0,13.0,1792.0,1.0,1.0,1.0])      |27.0   |\n",
            "|(25,[0,1,2,3,5,17,21],[1.0,1.0,13.0,1792.0,1.0,1.0,1.0]) |648.0  |\n",
            "|(25,[0,1,2,3,4,17,21],[1.0,1.0,13.0,1792.0,1.0,1.0,1.0]) |719.0  |\n",
            "|(25,[0,2,3,4,17,21],[1.0,13.0,1792.0,1.0,1.0,1.0])       |157.052|\n",
            "+---------------------------------------------------------+-------+\n",
            "only showing top 10 rows\n",
            "\n"
          ]
        }
      ]
    },
    {
      "cell_type": "markdown",
      "source": [
        "Dividindo os dados em conjuntos de treinamento e teste para treinar nosso modelo\n",
        "\n"
      ],
      "metadata": {
        "id": "NjymfM_jgxuP"
      }
    },
    {
      "cell_type": "code",
      "source": [
        "# Dividindo os dados em conjuntos de treinamento e teste para treinar nosso modelo\n",
        "# Estou usando randomSplit() para dividir dados em divisões de tamanho fixo com base nos pesos fornecidos\n",
        "train_data, test_data = df_final.randomSplit(weights = [0.80, 0.20], seed = 42)"
      ],
      "metadata": {
        "id": "OVmjUzT1gzv9"
      },
      "execution_count": 242,
      "outputs": []
    },
    {
      "cell_type": "code",
      "source": [
        "# Verificando as estatísticas dos nossos conjuntos de treinamento\n",
        "train_data.describe().show()"
      ],
      "metadata": {
        "colab": {
          "base_uri": "https://localhost:8080/"
        },
        "id": "1NUGlhsBhMFS",
        "outputId": "07a4be7e-8385-42ba-bf2e-023c3b26ec7d"
      },
      "execution_count": 243,
      "outputs": [
        {
          "output_type": "stream",
          "name": "stdout",
          "text": [
            "+-------+------------------+------------------+-------------------+-----------------+------------------+\n",
            "|summary|         store_nbr|             sales|        onpromotion|          cluster|      transactions|\n",
            "+-------+------------------+------------------+-------------------+-----------------+------------------+\n",
            "|  count|            257645|            257645|             257645|           257645|            257645|\n",
            "|   mean|26.993483281259095|407.14736154710033| 0.2595509324846203|8.534677560208815|1736.2126258999785|\n",
            "| stddev|15.603070947412105|1220.5082827218823|0.43838908729623716|4.713213218788782|1053.4330925759366|\n",
            "|    min|                 1|               0.0|                  0|                1|                54|\n",
            "|    max|                54|          89576.36|                  1|               17|              8359|\n",
            "+-------+------------------+------------------+-------------------+-----------------+------------------+\n",
            "\n"
          ]
        }
      ]
    },
    {
      "cell_type": "code",
      "source": [
        "# Verificando as estatísticas dos nossos conjuntos de teste\n",
        "test_data.describe().show()"
      ],
      "metadata": {
        "colab": {
          "base_uri": "https://localhost:8080/"
        },
        "id": "Uiz-eIEDhcqc",
        "outputId": "39d943b6-9f74-45de-b462-4d91c028f901"
      },
      "execution_count": 244,
      "outputs": [
        {
          "output_type": "stream",
          "name": "stdout",
          "text": [
            "+-------+------------------+------------------+------------------+-----------------+------------------+\n",
            "|summary|         store_nbr|             sales|       onpromotion|          cluster|      transactions|\n",
            "+-------+------------------+------------------+------------------+-----------------+------------------+\n",
            "|  count|             64402|             64402|             64402|            64402|             64402|\n",
            "|   mean|26.999425483680632| 403.3273755182037|0.2574298934815689|8.517297599453434|1725.7374926244527|\n",
            "| stddev|15.563662464331024|1347.2398248202974|0.4372215819199028|4.716202065656625|1037.8142544170275|\n",
            "|    min|                 1|               0.0|                 0|                1|                54|\n",
            "|    max|                54|          124717.0|                 1|               17|              8359|\n",
            "+-------+------------------+------------------+------------------+-----------------+------------------+\n",
            "\n"
          ]
        }
      ]
    },
    {
      "cell_type": "code",
      "source": [
        "# Construa o modelo de regressão linear\n",
        "lr = LinearRegression(featuresCol = 'features', labelCol='sales', maxIter=10, regParam=0.3, elasticNetParam=0.8)"
      ],
      "metadata": {
        "id": "VQZZE2mOhk-j"
      },
      "execution_count": 245,
      "outputs": []
    },
    {
      "cell_type": "code",
      "source": [
        "# Ajuste o modelo aos dados de treinamento\n",
        "lr_model = lr.fit(train_data)"
      ],
      "metadata": {
        "id": "tEifHc_Bhuz1"
      },
      "execution_count": 246,
      "outputs": []
    },
    {
      "cell_type": "code",
      "source": [
        "# Imprima os coeficientes e intercepte para regressão logística\n",
        "print(\"Coeficientes: \" + str(lr_model.coefficients))\n",
        "print(\"Intercept: \" + str(lr_model.intercept))"
      ],
      "metadata": {
        "colab": {
          "base_uri": "https://localhost:8080/"
        },
        "id": "SXKL9GeLh2g-",
        "outputId": "f2d924c8-63f8-454c-d880-814fd71e81a5"
      },
      "execution_count": 247,
      "outputs": [
        {
          "output_type": "stream",
          "name": "stdout",
          "text": [
            "Coeficientes: [0.0,734.5416408376735,-2.0361645857088613,0.22257780248396414,287.5998008860713,51.7902350637495,-156.96101784507334,-85.83995876855985,1826.2419066924085,-72.40238576129724,-86.96762470878114,-149.8655994224939,-88.25730809533064,-81.42998036721738,-61.4014275593803,-102.27677429989032,-92.06106618787155,-45.453844233329335,-31.18832052687046,23.23090150515221,-51.54348305433546,24.555690448759247,17.352791648827843,-14.16723122161026,-11.591707592357725]\n",
            "Intercept: -307.6008158283497\n"
          ]
        }
      ]
    },
    {
      "cell_type": "code",
      "source": [
        "# Resuma o modelo sobre o conjunto de treinamento e imprima algumas métricas:\n",
        "trainingSummary = lr_model.summary\n",
        "print(\"RMSE: %f\" % trainingSummary.rootMeanSquaredError)\n",
        "print(\"r2: %f\" % trainingSummary.r2)"
      ],
      "metadata": {
        "colab": {
          "base_uri": "https://localhost:8080/"
        },
        "id": "4fdu_tS-iECK",
        "outputId": "c24a4fd3-fb92-4a89-da2e-b3ddabb73e74"
      },
      "execution_count": 248,
      "outputs": [
        {
          "output_type": "stream",
          "name": "stdout",
          "text": [
            "RMSE: 1028.873306\n",
            "r2: 0.289369\n"
          ]
        }
      ]
    },
    {
      "cell_type": "code",
      "source": [
        "# Faça previsões sobre dados de teste usando metodo transform()\n",
        "predictions = lr_model.transform(test_data)"
      ],
      "metadata": {
        "id": "HMAWvjsBidri"
      },
      "execution_count": 250,
      "outputs": []
    },
    {
      "cell_type": "code",
      "source": [
        "# mostrar os valores previstos e os valores reais\n",
        "predictions.select(\"prediction\",\"sales\",\"features\").show(10)"
      ],
      "metadata": {
        "colab": {
          "base_uri": "https://localhost:8080/"
        },
        "id": "sHazU_2LiTtY",
        "outputId": "50f4a45b-8369-4451-ddf6-9f705a732979"
      },
      "execution_count": 251,
      "outputs": [
        {
          "output_type": "stream",
          "name": "stdout",
          "text": [
            "+-------------------+-----+--------------------+\n",
            "|         prediction|sales|            features|\n",
            "+-------------------+-----+--------------------+\n",
            "|-426.68282872085007|  0.0|(25,[0,2,3,6,17,2...|\n",
            "| -419.5874102982706|  0.0|(25,[0,2,3,11,17,...|\n",
            "|-210.36393052757245|  0.0|(25,[0,2,3,5,17,2...|\n",
            "| -349.1217903001031|  0.0|(25,[0,2,3,10,17,...|\n",
            "|-346.65865754497804|  0.0|(25,[0,2,3,7,17,2...|\n",
            "| -412.8830049668443|  0.0|(25,[0,2,3,6,17,2...|\n",
            "|-334.63945621084395|  0.0|(25,[0,2,3,7,17,2...|\n",
            "| -334.8768109411294|  0.0|(25,[0,2,3,10,17,...|\n",
            "| -401.9766926451301|  0.0|(25,[0,2,3,6,17,2...|\n",
            "|-330.85563356861655|  0.0|(25,[0,2,3,7,17,2...|\n",
            "+-------------------+-----+--------------------+\n",
            "only showing top 10 rows\n",
            "\n"
          ]
        }
      ]
    },
    {
      "cell_type": "markdown",
      "source": [
        "Avaliando o modelo : saber o quão eficiente o modelo é observando algumas métricas de desempenho"
      ],
      "metadata": {
        "id": "GScuUV1yi8rA"
      }
    },
    {
      "cell_type": "code",
      "source": [
        "#R2 score on test set\n",
        "r2_test= lr_model.evaluate(test_data).r2\n",
        "print('R2 score on test set: ', r2_test)\n",
        "\n",
        "#RMSE on test set\n",
        "evaluator = RegressionEvaluator(predictionCol='prediction', labelCol='sales',metricName='rmse')\n",
        "rmse_test = evaluator.evaluate(predictions)\n",
        "print('RMSE on test set: ', rmse_test)"
      ],
      "metadata": {
        "colab": {
          "base_uri": "https://localhost:8080/"
        },
        "id": "VrSrxhfAiyB3",
        "outputId": "cd0aea5d-bfa3-431a-997e-fc26b0b78c59"
      },
      "execution_count": 252,
      "outputs": [
        {
          "output_type": "stream",
          "name": "stdout",
          "text": [
            "R2 score on test set:  0.2378794673216732\n",
            "RMSE on test set:  1176.1247023116605\n"
          ]
        }
      ]
    }
  ]
}